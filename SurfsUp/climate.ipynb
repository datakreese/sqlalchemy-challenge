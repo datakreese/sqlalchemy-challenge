{
 "cells": [
  {
   "cell_type": "code",
   "execution_count": 1,
   "metadata": {},
   "outputs": [],
   "source": [
    "from matplotlib import style\n",
    "style.use('fivethirtyeight')\n",
    "import matplotlib.pyplot as plt\n",
    "%matplotlib inline"
   ]
  },
  {
   "cell_type": "code",
   "execution_count": 2,
   "metadata": {},
   "outputs": [],
   "source": [
    "import numpy as np\n",
    "import pandas as pd\n",
    "import datetime as dt"
   ]
  },
  {
   "cell_type": "markdown",
   "metadata": {},
   "source": [
    "# Reflect Tables in SQLalchemy ORM"
   ]
  },
  {
   "cell_type": "code",
   "execution_count": 3,
   "metadata": {},
   "outputs": [],
   "source": [
    "# Python SQL toolkit and Object Relational Mapper\n",
    "import sqlalchemy\n",
    "from sqlalchemy.ext.automap import automap_base\n",
    "from sqlalchemy.orm import Session\n",
    "from sqlalchemy import create_engine, func, text, inspect\n",
    "from datetime import timedelta"
   ]
  },
  {
   "cell_type": "code",
   "execution_count": 4,
   "metadata": {},
   "outputs": [],
   "source": [
    "# create engine to hawaii.sqlite\n",
    "engine = create_engine(\"sqlite:///Resources/hawaii.sqlite\")"
   ]
  },
  {
   "cell_type": "code",
   "execution_count": 5,
   "metadata": {},
   "outputs": [
    {
     "name": "stderr",
     "output_type": "stream",
     "text": [
      "/var/folders/r7/5rnhtw1s0kd514zcq5h7swb40000gn/T/ipykernel_32990/386937400.py:3: SADeprecationWarning: The AutomapBase.prepare.reflect parameter is deprecated and will be removed in a future release.  Reflection is enabled when AutomapBase.prepare.autoload_with is passed.\n",
      "  Base.prepare(autoload_with=engine, reflect=True)\n"
     ]
    },
    {
     "data": {
      "text/plain": [
       "['measurement', 'station']"
      ]
     },
     "execution_count": 5,
     "metadata": {},
     "output_type": "execute_result"
    }
   ],
   "source": [
    "# reflect an existing database into a new model\n",
    "Base = automap_base()\n",
    "Base.prepare(autoload_with=engine, reflect=True)\n",
    "#Hawaii = Base.classes.hawaii\n",
    "\n",
    "# reflect the tables\n",
    "Base.classes.keys()\n",
    "#station = Base.classes.station\n",
    "#measurement = Base.classes.measurement"
   ]
  },
  {
   "cell_type": "code",
   "execution_count": 6,
   "metadata": {},
   "outputs": [],
   "source": [
    "# View all of the classes that automap found\n",
    "#columns = inspector.get_columns('hawaii')\n",
    "#for c in columns:\n",
    "    #print(c['name'], c[\"type\"])\n"
   ]
  },
  {
   "cell_type": "code",
   "execution_count": 7,
   "metadata": {},
   "outputs": [],
   "source": [
    "# Save references to each table\n",
    "station = Base.classes.station\n",
    "measurement = Base.classes.measurement\n",
    "\n",
    "#inspector = inspect(engine)\n",
    "#inspector.get_table_names()"
   ]
  },
  {
   "cell_type": "code",
   "execution_count": 8,
   "metadata": {},
   "outputs": [],
   "source": [
    "# Create our session (link) from Python to the DB\n",
    "session = Session(engine)"
   ]
  },
  {
   "cell_type": "markdown",
   "metadata": {},
   "source": [
    "# Exploratory Precipitation Analysis"
   ]
  },
  {
   "cell_type": "markdown",
   "metadata": {},
   "source": []
  },
  {
   "cell_type": "code",
   "execution_count": 10,
   "metadata": {},
   "outputs": [
    {
     "name": "stdout",
     "output_type": "stream",
     "text": [
      "DatetimeIndex(['2017-08-23'], dtype='datetime64[ns]', freq=None)\n"
     ]
    }
   ],
   "source": [
    "# Find the most recent date in the data set.\n",
    "end_date = session.query(func.max(measurement.date)).first()\n",
    "date_new = pd.to_datetime(end_date)\n",
    "\n",
    "print(date_new)"
   ]
  },
  {
   "cell_type": "code",
   "execution_count": 11,
   "metadata": {},
   "outputs": [
    {
     "name": "stdout",
     "output_type": "stream",
     "text": [
      "2016-08-23 00:00:00\n"
     ]
    },
    {
     "data": {
      "image/png": "[encoded data removed]",
      "text/plain": [
       "<Figure size 640x480 with 1 Axes>"
      ]
     },
     "metadata": {},
     "output_type": "display_data"
    }
   ],
   "source": [
    "# Design a query to retrieve the last 12 months of precipitation data and plot the results. \n",
    "# Starting from the most recent data point in the database. \n",
    "\n",
    "# Calculate the date one year from the last date in data set.\n",
    "p_year = dt.datetime(2017, 8, 23) - dt.timedelta(days=365)\n",
    "print(p_year)\n",
    "\n",
    "#end_date_obj = dt.strptime(end_date, \"%Y-%m-%d\")\n",
    "#p_year = date_new.date - dt.timedelta(days=365)\n",
    "#end_date_obj = dt(end_date)\n",
    "#start_date = end_date_obj - timedelta(days=365)\n",
    "#start_date_obj = dt(start_date)\n",
    "\n",
    "# Perform a query to retrieve the data and precipitation scores\n",
    "results = session.query(measurement.date, measurement.prcp).filter(measurement.date >= p_year).all()\n",
    "#print(results)\n",
    "\n",
    "\n",
    "#Save the query results as a Pandas DataFrame. Explicitly set the column names\n",
    "rain_year = [{\"date\": row[0], \"prcp\": row[1]} for row in results]\n",
    "df = pd.DataFrame(rain_year, columns=[\"date\", \"prcp\"])\n",
    "\n",
    "# Sort the dataframe by date\n",
    "df = df.sort_values(by=\"date\")\n",
    "\n",
    "# Use Pandas Plotting with Matplotlib to plot the data\n",
    "x_column = 'date'\n",
    "y_column = 'prcp'\n",
    "\n",
    "#df.plot(kind='bar', stacked=True, width=1)\n",
    "plt.bar(df[x_column], df[y_column], color='blue')\n",
    "plt.xlabel('Date')\n",
    "plt.ylabel('Inches')\n",
    "plt.xticks([\"2016-11-09\", \"2017-01-28\", \"2017-04-18\"], rotation=35)\n",
    "\n",
    "plt.show() "
   ]
  },
  {
   "cell_type": "code",
   "execution_count": 12,
   "metadata": {},
   "outputs": [
    {
     "name": "stdout",
     "output_type": "stream",
     "text": [
      "              date         prcp\n",
      "count         2223  2015.000000\n",
      "unique         365          NaN\n",
      "top     2016-08-24          NaN\n",
      "freq             7          NaN\n",
      "mean           NaN     0.176462\n",
      "std            NaN     0.460288\n",
      "min            NaN     0.000000\n",
      "25%            NaN     0.000000\n",
      "50%            NaN     0.020000\n",
      "75%            NaN     0.130000\n",
      "max            NaN     6.700000\n"
     ]
    }
   ],
   "source": [
    "# Use Pandas to calculate the summary statistics for the precipitation data\n",
    "summary = df.describe(include = 'all')\n",
    "print(summary)"
   ]
  },
  {
   "cell_type": "markdown",
   "metadata": {},
   "source": [
    "# Exploratory Station Analysis"
   ]
  },
  {
   "cell_type": "code",
   "execution_count": 13,
   "metadata": {},
   "outputs": [
    {
     "data": {
      "text/plain": [
       "9"
      ]
     },
     "execution_count": 13,
     "metadata": {},
     "output_type": "execute_result"
    }
   ],
   "source": [
    "# Design a query to calculate the total number of stations in the dataset\n",
    "session.query(station.station).count()"
   ]
  },
  {
   "cell_type": "code",
   "execution_count": 14,
   "metadata": {},
   "outputs": [
    {
     "name": "stdout",
     "output_type": "stream",
     "text": [
      "('USC00519281', 2772)\n",
      "('USC00519397', 2724)\n",
      "('USC00513117', 2709)\n",
      "('USC00519523', 2669)\n",
      "('USC00516128', 2612)\n",
      "('USC00514830', 2202)\n",
      "('USC00511918', 1979)\n",
      "('USC00517948', 1372)\n",
      "('USC00518838', 511)\n"
     ]
    }
   ],
   "source": [
    "# Design a query to find the most active stations (i.e. which stations have the most rows?)\n",
    "# List the stations and their counts in descending order.\n",
    "station_activity = session.query(measurement.station, func.count()).group_by(measurement.station).order_by(func.count().desc())\n",
    "for station in station_activity:\n",
    "    print(station)"
   ]
  },
  {
   "cell_type": "code",
   "execution_count": 15,
   "metadata": {},
   "outputs": [
    {
     "name": "stdout",
     "output_type": "stream",
     "text": [
      "[(54.0,)]\n",
      "[(85.0,)]\n",
      "[(71.66378066378067,)]\n"
     ]
    }
   ],
   "source": [
    "# Using the most active station id from the previous query, calculate the lowest, highest, and average temperature.\n",
    "min = session.query(func.min(measurement.tobs)).filter(measurement.station == 'USC00519281').all()\n",
    "max = session.query(func.max(measurement.tobs)).filter(measurement.station == 'USC00519281').all()\n",
    "mean = session.query(func.avg(measurement.tobs)).filter(measurement.station == 'USC00519281').all()\n",
    "print(min)  \n",
    "print(max)\n",
    "print(mean)\n",
    "#session.query(min = (measurement.station == 'USC00519281')func.min() #func.max, func.avg"
   ]
  },
  {
   "cell_type": "code",
   "execution_count": 24,
   "metadata": {},
   "outputs": [
    {
     "name": "stdout",
     "output_type": "stream",
     "text": [
      "[(77.0,), (80.0,), (80.0,), (75.0,), (73.0,), (78.0,), (77.0,), (78.0,), (80.0,), (80.0,), (78.0,), (78.0,), (78.0,), (73.0,), (74.0,), (80.0,), (79.0,), (77.0,), (80.0,), (76.0,), (79.0,), (75.0,), (79.0,), (78.0,), (79.0,), (78.0,), (78.0,), (76.0,), (74.0,), (77.0,), (78.0,), (79.0,), (79.0,), (77.0,), (80.0,), (78.0,), (78.0,), (78.0,), (77.0,), (79.0,), (79.0,), (79.0,), (79.0,), (75.0,), (76.0,), (73.0,), (72.0,), (71.0,), (77.0,), (79.0,), (78.0,), (79.0,), (77.0,), (79.0,), (77.0,), (78.0,), (78.0,), (78.0,), (78.0,), (77.0,), (74.0,), (75.0,), (76.0,), (73.0,), (76.0,), (74.0,), (77.0,), (76.0,), (76.0,), (74.0,), (75.0,), (75.0,), (75.0,), (75.0,), (71.0,), (63.0,), (70.0,), (68.0,), (67.0,), (77.0,), (74.0,), (77.0,), (76.0,), (76.0,), (75.0,), (76.0,), (75.0,), (73.0,), (75.0,), (73.0,), (75.0,), (74.0,), (75.0,), (74.0,), (75.0,), (73.0,), (75.0,), (73.0,), (73.0,), (74.0,), (70.0,), (72.0,), (70.0,), (67.0,), (67.0,), (69.0,), (70.0,), (68.0,), (69.0,), (69.0,), (66.0,), (65.0,), (68.0,), (62.0,), (75.0,), (70.0,), (69.0,), (76.0,), (76.0,), (74.0,), (73.0,), (71.0,), (74.0,), (74.0,), (72.0,), (71.0,), (72.0,), (74.0,), (69.0,), (67.0,), (72.0,), (70.0,), (64.0,), (63.0,), (63.0,), (62.0,), (70.0,), (70.0,), (62.0,), (62.0,), (63.0,), (65.0,), (69.0,), (77.0,), (70.0,), (74.0,), (69.0,), (72.0,), (71.0,), (69.0,), (71.0,), (71.0,), (72.0,), (72.0,), (69.0,), (70.0,), (66.0,), (65.0,), (69.0,), (68.0,), (68.0,), (68.0,), (59.0,), (60.0,), (70.0,), (73.0,), (75.0,), (64.0,), (59.0,), (59.0,), (62.0,), (68.0,), (70.0,), (73.0,), (79.0,), (75.0,), (65.0,), (70.0,), (74.0,), (70.0,), (70.0,), (71.0,), (71.0,), (71.0,), (69.0,), (61.0,), (67.0,), (65.0,), (72.0,), (71.0,), (73.0,), (72.0,), (77.0,), (73.0,), (67.0,), (62.0,), (64.0,), (67.0,), (66.0,), (81.0,), (69.0,), (66.0,), (67.0,), (69.0,), (66.0,), (68.0,), (65.0,), (74.0,), (69.0,), (72.0,), (73.0,), (72.0,), (71.0,), (76.0,), (77.0,), (76.0,), (74.0,), (68.0,), (73.0,), (71.0,), (74.0,), (75.0,), (70.0,), (67.0,), (71.0,), (67.0,), (74.0,), (77.0,), (78.0,), (67.0,), (70.0,), (69.0,), (69.0,), (74.0,), (78.0,), (71.0,), (67.0,), (68.0,), (67.0,), (76.0,), (69.0,), (72.0,), (76.0,), (68.0,), (72.0,), (74.0,), (70.0,), (67.0,), (72.0,), (60.0,), (65.0,), (75.0,), (70.0,), (75.0,), (70.0,), (79.0,), (75.0,), (70.0,), (67.0,), (74.0,), (70.0,), (75.0,), (76.0,), (77.0,), (74.0,), (74.0,), (74.0,), (69.0,), (68.0,), (76.0,), (74.0,), (71.0,), (71.0,), (74.0,), (74.0,), (74.0,), (74.0,), (80.0,), (74.0,), (72.0,), (75.0,), (80.0,), (76.0,), (76.0,), (77.0,), (75.0,), (75.0,), (75.0,), (75.0,), (72.0,), (74.0,), (74.0,), (74.0,), (76.0,), (74.0,), (75.0,), (73.0,), (79.0,), (75.0,), (72.0,), (72.0,), (74.0,), (72.0,), (72.0,), (77.0,), (71.0,), (73.0,), (76.0,), (77.0,), (76.0,), (76.0,), (79.0,), (81.0,), (76.0,), (78.0,), (77.0,), (74.0,), (75.0,), (78.0,), (78.0,), (69.0,), (72.0,), (74.0,), (74.0,), (76.0,), (80.0,), (80.0,), (76.0,), (76.0,), (76.0,), (77.0,), (77.0,), (77.0,), (82.0,), (75.0,), (77.0,), (75.0,), (76.0,), (81.0,), (82.0,), (81.0,), (76.0,), (77.0,), (82.0,), (83.0,), (77.0,), (77.0,), (77.0,), (76.0,), (76.0,), (79.0,)]\n",
      "     tobs\n",
      "0    77.0\n",
      "1    80.0\n",
      "2    80.0\n",
      "3    75.0\n",
      "4    73.0\n",
      "..    ...\n",
      "346  77.0\n",
      "347  77.0\n",
      "348  76.0\n",
      "349  76.0\n",
      "350  79.0\n",
      "\n",
      "[351 rows x 1 columns]\n"
     ]
    },
    {
     "data": {
      "text/plain": [
       "Text(0.5, 4.183333333333314, 'Temp')"
      ]
     },
     "execution_count": 24,
     "metadata": {},
     "output_type": "execute_result"
    },
    {
     "data": {
      "image/png": "[encoded data removed]",
      "text/plain": [
       "<Figure size 640x480 with 1 Axes>"
      ]
     },
     "metadata": {},
     "output_type": "display_data"
    }
   ],
   "source": [
    "temps = session.query(measurement.tobs).filter(measurement.date >= p_year).filter(measurement.station == 'USC00519281').all()\n",
    "print(temps)\n",
    "#temp_year = [{\"date\": row[0], \"tobs\": row[1]} for row in temps]\n",
    "#df2 = pd.DataFrame(temp_year, columns=[\"date\", \"tobs\"])\n",
    "df2 = pd.DataFrame(temps, columns=[\"tobs\"])\n",
    "print(df2) \n",
    "\n",
    "df2.plot.hist(bins=12)\n",
    "plt.tight_layout()\n",
    "plt.xlabel(\"Temp\")\n"
   ]
  },
  {
   "cell_type": "code",
   "execution_count": 13,
   "metadata": {},
   "outputs": [
    {
     "name": "stdout",
     "output_type": "stream",
     "text": [
      "[(77.0,), (80.0,), (80.0,), (75.0,), (73.0,), (78.0,), (77.0,), (78.0,), (80.0,), (80.0,), (78.0,), (78.0,), (78.0,), (73.0,), (74.0,), (80.0,), (79.0,), (77.0,), (80.0,), (76.0,), (79.0,), (75.0,), (79.0,), (78.0,), (79.0,), (78.0,), (78.0,), (76.0,), (74.0,), (77.0,), (78.0,), (79.0,), (79.0,), (77.0,), (80.0,), (78.0,), (78.0,), (78.0,), (77.0,), (79.0,), (79.0,), (79.0,), (79.0,), (75.0,), (76.0,), (73.0,), (72.0,), (71.0,), (77.0,), (79.0,), (78.0,), (79.0,), (77.0,), (79.0,), (77.0,), (78.0,), (78.0,), (78.0,), (78.0,), (77.0,), (74.0,), (75.0,), (76.0,), (73.0,), (76.0,), (74.0,), (77.0,), (76.0,), (76.0,), (74.0,), (75.0,), (75.0,), (75.0,), (75.0,), (71.0,), (63.0,), (70.0,), (68.0,), (67.0,), (77.0,), (74.0,), (77.0,), (76.0,), (76.0,), (75.0,), (76.0,), (75.0,), (73.0,), (75.0,), (73.0,), (75.0,), (74.0,), (75.0,), (74.0,), (75.0,), (73.0,), (75.0,), (73.0,), (73.0,), (74.0,), (70.0,), (72.0,), (70.0,), (67.0,), (67.0,), (69.0,), (70.0,), (68.0,), (69.0,), (69.0,), (66.0,), (65.0,), (68.0,), (62.0,), (75.0,), (70.0,), (69.0,), (76.0,), (76.0,), (74.0,), (73.0,), (71.0,), (74.0,), (74.0,), (72.0,), (71.0,), (72.0,), (74.0,), (69.0,), (67.0,), (72.0,), (70.0,), (64.0,), (63.0,), (63.0,), (62.0,), (70.0,), (70.0,), (62.0,), (62.0,), (63.0,), (65.0,), (69.0,), (77.0,), (70.0,), (74.0,), (69.0,), (72.0,), (71.0,), (69.0,), (71.0,), (71.0,), (72.0,), (72.0,), (69.0,), (70.0,), (66.0,), (65.0,), (69.0,), (68.0,), (68.0,), (68.0,), (59.0,), (60.0,), (70.0,), (73.0,), (75.0,), (64.0,), (59.0,), (59.0,), (62.0,), (68.0,), (70.0,), (73.0,), (79.0,), (75.0,), (65.0,), (70.0,), (74.0,), (70.0,), (70.0,), (71.0,), (71.0,), (71.0,), (69.0,), (61.0,), (67.0,), (65.0,), (72.0,), (71.0,), (73.0,), (72.0,), (77.0,), (73.0,), (67.0,), (62.0,), (64.0,), (67.0,), (66.0,), (81.0,), (69.0,), (66.0,), (67.0,), (69.0,), (66.0,), (68.0,), (65.0,), (74.0,), (69.0,), (72.0,), (73.0,), (72.0,), (71.0,), (76.0,), (77.0,), (76.0,), (74.0,), (68.0,), (73.0,), (71.0,), (74.0,), (75.0,), (70.0,), (67.0,), (71.0,), (67.0,), (74.0,), (77.0,), (78.0,), (67.0,), (70.0,), (69.0,), (69.0,), (74.0,), (78.0,), (71.0,), (67.0,), (68.0,), (67.0,), (76.0,), (69.0,), (72.0,), (76.0,), (68.0,), (72.0,), (74.0,), (70.0,), (67.0,), (72.0,), (60.0,), (65.0,), (75.0,), (70.0,), (75.0,), (70.0,), (79.0,), (75.0,), (70.0,), (67.0,), (74.0,), (70.0,), (75.0,), (76.0,), (77.0,), (74.0,), (74.0,), (74.0,), (69.0,), (68.0,), (76.0,), (74.0,), (71.0,), (71.0,), (74.0,), (74.0,), (74.0,), (74.0,), (80.0,), (74.0,), (72.0,), (75.0,), (80.0,), (76.0,), (76.0,), (77.0,), (75.0,), (75.0,), (75.0,), (75.0,), (72.0,), (74.0,), (74.0,), (74.0,), (76.0,), (74.0,), (75.0,), (73.0,), (79.0,), (75.0,), (72.0,), (72.0,), (74.0,), (72.0,), (72.0,), (77.0,), (71.0,), (73.0,), (76.0,), (77.0,), (76.0,), (76.0,), (79.0,), (81.0,), (76.0,), (78.0,), (77.0,), (74.0,), (75.0,), (78.0,), (78.0,), (69.0,), (72.0,), (74.0,), (74.0,), (76.0,), (80.0,), (80.0,), (76.0,), (76.0,), (76.0,), (77.0,), (77.0,), (77.0,), (82.0,), (75.0,), (77.0,), (75.0,), (76.0,), (81.0,), (82.0,), (81.0,), (76.0,), (77.0,), (82.0,), (83.0,), (77.0,), (77.0,), (77.0,), (76.0,), (76.0,), (79.0,)]\n"
     ]
    },
    {
     "data": {
      "image/png": "[encoded data removed]",
      "text/plain": [
       "<Figure size 640x480 with 1 Axes>"
      ]
     },
     "metadata": {},
     "output_type": "display_data"
    }
   ],
   "source": [
    "\n",
    "temps = session.query(measurement.tobs).filter(measurement.date >= p_year).filter(measurement.station == 'USC00519281').all()\n",
    "print(temps)\n",
    "#temp_year = [{\"date\": row[0], \"tobs\": row[1]} for row in temps]\n",
    "#df2 = pd.DataFrame(temp_year, columns=[\"date\", \"tobs\"])\n",
    "df2 = pd.DataFrame(temps, columns=[\"tobs\"])\n",
    "\n",
    "plt.hist(df2['tobs'], bins=12, color='blue')\n",
    "plt.xlabel('Temperature Bins')\n",
    "plt.ylabel('Frequency')\n",
    "plt.show()"
   ]
  },
  {
   "cell_type": "code",
   "execution_count": 20,
   "metadata": {},
   "outputs": [
    {
     "name": "stdout",
     "output_type": "stream",
     "text": [
      "[('2016-08-24',), ('2016-08-25',), ('2016-08-26',), ('2016-08-27',), ('2016-08-28',), ('2016-08-29',), ('2016-08-30',), ('2016-08-31',), ('2016-09-01',), ('2016-09-02',), ('2016-09-03',), ('2016-09-04',), ('2016-09-05',), ('2016-09-06',), ('2016-09-07',), ('2016-09-08',), ('2016-09-09',), ('2016-09-10',), ('2016-09-11',), ('2016-09-12',), ('2016-09-13',), ('2016-09-14',), ('2016-09-15',), ('2016-09-16',), ('2016-09-17',), ('2016-09-18',), ('2016-09-19',), ('2016-09-20',), ('2016-09-21',), ('2016-09-22',), ('2016-09-23',), ('2016-09-24',), ('2016-09-25',), ('2016-09-26',), ('2016-09-27',), ('2016-09-28',), ('2016-09-29',), ('2016-09-30',), ('2016-10-01',), ('2016-10-02',), ('2016-10-03',), ('2016-10-04',), ('2016-10-05',), ('2016-10-06',), ('2016-10-07',), ('2016-10-08',), ('2016-10-09',), ('2016-10-10',), ('2016-10-11',), ('2016-10-12',), ('2016-10-13',), ('2016-10-14',), ('2016-10-15',), ('2016-10-16',), ('2016-10-17',), ('2016-10-18',), ('2016-10-19',), ('2016-10-20',), ('2016-10-21',), ('2016-10-22',), ('2016-10-23',), ('2016-10-24',), ('2016-10-25',), ('2016-10-26',), ('2016-10-27',), ('2016-10-28',), ('2016-10-29',), ('2016-10-30',), ('2016-10-31',), ('2016-11-01',), ('2016-11-02',), ('2016-11-03',), ('2016-11-04',), ('2016-11-05',), ('2016-11-06',), ('2016-11-07',), ('2016-11-08',), ('2016-11-09',), ('2016-11-10',), ('2016-11-11',), ('2016-11-12',), ('2016-11-13',), ('2016-11-14',), ('2016-11-15',), ('2016-11-16',), ('2016-11-17',), ('2016-11-18',), ('2016-11-19',), ('2016-11-20',), ('2016-11-21',), ('2016-11-22',), ('2016-11-23',), ('2016-11-24',), ('2016-11-25',), ('2016-11-26',), ('2016-11-27',), ('2016-11-28',), ('2016-11-29',), ('2016-11-30',), ('2016-12-01',), ('2016-12-02',), ('2016-12-03',), ('2016-12-04',), ('2016-12-05',), ('2016-12-06',), ('2016-12-07',), ('2016-12-08',), ('2016-12-09',), ('2016-12-10',), ('2016-12-11',), ('2016-12-12',), ('2016-12-13',), ('2016-12-14',), ('2016-12-15',), ('2016-12-16',), ('2016-12-17',), ('2016-12-18',), ('2016-12-19',), ('2016-12-20',), ('2016-12-21',), ('2016-12-22',), ('2016-12-23',), ('2016-12-24',), ('2016-12-25',), ('2016-12-26',), ('2016-12-27',), ('2016-12-28',), ('2016-12-29',), ('2016-12-30',), ('2016-12-31',), ('2017-01-01',), ('2017-01-02',), ('2017-01-03',), ('2017-01-04',), ('2017-01-05',), ('2017-01-06',), ('2017-01-07',), ('2017-01-08',), ('2017-01-09',), ('2017-01-10',), ('2017-01-11',), ('2017-01-12',), ('2017-01-13',), ('2017-01-14',), ('2017-01-15',), ('2017-01-16',), ('2017-01-17',), ('2017-01-18',), ('2017-01-19',), ('2017-01-20',), ('2017-01-21',), ('2017-01-22',), ('2017-01-23',), ('2017-01-24',), ('2017-01-25',), ('2017-01-26',), ('2017-01-27',), ('2017-01-28',), ('2017-01-29',), ('2017-01-30',), ('2017-01-31',), ('2017-02-01',), ('2017-02-02',), ('2017-02-03',), ('2017-02-04',), ('2017-02-05',), ('2017-02-06',), ('2017-02-07',), ('2017-02-08',), ('2017-02-09',), ('2017-02-10',), ('2017-02-11',), ('2017-02-12',), ('2017-02-13',), ('2017-02-14',), ('2017-02-15',), ('2017-02-16',), ('2017-02-17',), ('2017-02-18',), ('2017-02-19',), ('2017-02-20',), ('2017-02-21',), ('2017-02-22',), ('2017-02-23',), ('2017-02-24',), ('2017-02-25',), ('2017-02-26',), ('2017-02-27',), ('2017-02-28',), ('2017-03-01',), ('2017-03-02',), ('2017-03-03',), ('2017-03-04',), ('2017-03-05',), ('2017-03-06',), ('2017-03-07',), ('2017-03-08',), ('2017-03-09',), ('2017-03-10',), ('2017-03-11',), ('2017-03-12',), ('2017-03-13',), ('2017-03-14',), ('2017-03-15',), ('2017-03-16',), ('2017-03-17',), ('2017-03-18',), ('2017-03-19',), ('2017-03-20',), ('2017-03-21',), ('2017-03-22',), ('2017-03-23',), ('2017-03-24',), ('2017-03-25',), ('2017-03-26',), ('2017-03-27',), ('2017-03-28',), ('2017-03-29',), ('2017-03-30',), ('2017-03-31',), ('2017-04-01',), ('2017-04-02',), ('2017-04-03',), ('2017-04-04',), ('2017-04-05',), ('2017-04-06',), ('2017-04-07',), ('2017-04-08',), ('2017-04-09',), ('2017-04-10',), ('2017-04-11',), ('2017-04-12',), ('2017-04-13',), ('2017-04-14',), ('2017-04-15',), ('2017-04-16',), ('2017-04-17',), ('2017-04-18',), ('2017-04-19',), ('2017-04-20',), ('2017-04-21',), ('2017-04-22',), ('2017-04-23',), ('2017-04-24',), ('2017-04-25',), ('2017-04-26',), ('2017-04-27',), ('2017-04-28',), ('2017-04-29',), ('2017-04-30',), ('2017-05-01',), ('2017-05-02',), ('2017-05-03',), ('2017-05-04',), ('2017-05-05',), ('2017-05-06',), ('2017-05-07',), ('2017-05-08',), ('2017-05-09',), ('2017-05-10',), ('2017-05-11',), ('2017-05-12',), ('2017-05-13',), ('2017-05-14',), ('2017-05-15',), ('2017-05-16',), ('2017-05-17',), ('2017-05-18',), ('2017-05-19',), ('2017-05-20',), ('2017-05-21',), ('2017-05-22',), ('2017-05-23',), ('2017-05-24',), ('2017-05-25',), ('2017-05-26',), ('2017-05-27',), ('2017-05-28',), ('2017-05-29',), ('2017-05-30',), ('2017-05-31',), ('2017-06-01',), ('2017-06-02',), ('2017-06-03',), ('2017-06-04',), ('2017-06-05',), ('2017-06-06',), ('2017-06-07',), ('2017-06-08',), ('2017-06-09',), ('2017-06-10',), ('2017-06-11',), ('2017-06-12',), ('2017-06-13',), ('2017-06-14',), ('2017-06-15',), ('2017-06-16',), ('2017-06-17',), ('2017-06-18',), ('2017-06-19',), ('2017-06-20',), ('2017-06-21',), ('2017-06-22',), ('2017-06-23',), ('2017-06-24',), ('2017-06-25',), ('2017-06-26',), ('2017-06-27',), ('2017-06-28',), ('2017-06-29',), ('2017-06-30',), ('2017-07-01',), ('2017-07-02',), ('2017-07-03',), ('2017-07-04',), ('2017-07-05',), ('2017-07-06',), ('2017-07-07',), ('2017-07-08',), ('2017-07-09',), ('2017-07-10',), ('2017-07-11',), ('2017-07-12',), ('2017-07-13',), ('2017-07-14',), ('2017-07-15',), ('2017-07-16',), ('2017-07-17',), ('2017-07-18',), ('2017-07-19',), ('2017-07-20',), ('2017-07-21',), ('2017-07-22',), ('2017-07-23',), ('2017-07-24',), ('2017-07-25',), ('2017-07-26',), ('2017-07-27',), ('2017-07-28',), ('2017-07-29',), ('2017-07-30',), ('2017-07-31',), ('2017-08-04',), ('2017-08-05',), ('2017-08-06',), ('2017-08-13',), ('2017-08-14',), ('2017-08-15',), ('2017-08-16',), ('2017-08-17',), ('2017-08-18',)]\n",
      "           tobs\n",
      "0    2016-08-24\n",
      "1    2016-08-25\n",
      "2    2016-08-26\n",
      "3    2016-08-27\n",
      "4    2016-08-28\n",
      "..          ...\n",
      "346  2017-08-14\n",
      "347  2017-08-15\n",
      "348  2017-08-16\n",
      "349  2017-08-17\n",
      "350  2017-08-18\n",
      "\n",
      "[351 rows x 1 columns]\n"
     ]
    },
    {
     "ename": "TypeError",
     "evalue": "ufunc 'isnan' not supported for the input types, and the inputs could not be safely coerced to any supported types according to the casting rule ''safe''",
     "output_type": "error",
     "traceback": [
      "\u001b[0;31m---------------------------------------------------------------------------\u001b[0m",
      "\u001b[0;31mTypeError\u001b[0m                                 Traceback (most recent call last)",
      "Cell \u001b[0;32mIn[20], line 14\u001b[0m\n\u001b[1;32m     11\u001b[0m \u001b[38;5;66;03m# Define the number of bins you want\u001b[39;00m\n\u001b[1;32m     12\u001b[0m bins \u001b[38;5;241m=\u001b[39m \u001b[38;5;241m12\u001b[39m\n\u001b[0;32m---> 14\u001b[0m df2[\u001b[38;5;124m'\u001b[39m\u001b[38;5;124mbin_number\u001b[39m\u001b[38;5;124m'\u001b[39m] \u001b[38;5;241m=\u001b[39m \u001b[43mpd\u001b[49m\u001b[38;5;241;43m.\u001b[39;49m\u001b[43mqcut\u001b[49m\u001b[43m(\u001b[49m\u001b[43mdf2\u001b[49m\u001b[43m[\u001b[49m\u001b[38;5;124;43m'\u001b[39;49m\u001b[38;5;124;43mtobs\u001b[39;49m\u001b[38;5;124;43m'\u001b[39;49m\u001b[43m]\u001b[49m\u001b[43m,\u001b[49m\u001b[43m \u001b[49m\u001b[43mq\u001b[49m\u001b[38;5;241;43m=\u001b[39;49m\u001b[43mbins\u001b[49m\u001b[43m,\u001b[49m\u001b[43m \u001b[49m\u001b[43mlabels\u001b[49m\u001b[38;5;241;43m=\u001b[39;49m\u001b[38;5;28;43;01mFalse\u001b[39;49;00m\u001b[43m)\u001b[49m\n\u001b[1;32m     15\u001b[0m \u001b[38;5;66;03m#binned_df = pd.DataFrame(temp_year, )\u001b[39;00m\n\u001b[1;32m     16\u001b[0m binned_df \u001b[38;5;241m=\u001b[39m df2\u001b[38;5;241m.\u001b[39mgroupby(\u001b[38;5;124m'\u001b[39m\u001b[38;5;124mbin_number\u001b[39m\u001b[38;5;124m'\u001b[39m)\u001b[38;5;241m.\u001b[39msize()\u001b[38;5;241m.\u001b[39mreset_index(name\u001b[38;5;241m=\u001b[39m\u001b[38;5;124m'\u001b[39m\u001b[38;5;124mCount\u001b[39m\u001b[38;5;124m'\u001b[39m)\n",
      "File \u001b[0;32m/Applications/anaconda3/envs/dev/lib/python3.10/site-packages/pandas/core/reshape/tile.py:376\u001b[0m, in \u001b[0;36mqcut\u001b[0;34m(x, q, labels, retbins, precision, duplicates)\u001b[0m\n\u001b[1;32m    373\u001b[0m quantiles \u001b[38;5;241m=\u001b[39m np\u001b[38;5;241m.\u001b[39mlinspace(\u001b[38;5;241m0\u001b[39m, \u001b[38;5;241m1\u001b[39m, q \u001b[38;5;241m+\u001b[39m \u001b[38;5;241m1\u001b[39m) \u001b[38;5;28;01mif\u001b[39;00m is_integer(q) \u001b[38;5;28;01melse\u001b[39;00m q\n\u001b[1;32m    375\u001b[0m x_np \u001b[38;5;241m=\u001b[39m np\u001b[38;5;241m.\u001b[39masarray(x)\n\u001b[0;32m--> 376\u001b[0m x_np \u001b[38;5;241m=\u001b[39m x_np[\u001b[38;5;241m~\u001b[39m\u001b[43mnp\u001b[49m\u001b[38;5;241;43m.\u001b[39;49m\u001b[43misnan\u001b[49m\u001b[43m(\u001b[49m\u001b[43mx_np\u001b[49m\u001b[43m)\u001b[49m]\n\u001b[1;32m    377\u001b[0m bins \u001b[38;5;241m=\u001b[39m np\u001b[38;5;241m.\u001b[39mquantile(x_np, quantiles)\n\u001b[1;32m    379\u001b[0m fac, bins \u001b[38;5;241m=\u001b[39m _bins_to_cuts(\n\u001b[1;32m    380\u001b[0m     x,\n\u001b[1;32m    381\u001b[0m     bins,\n\u001b[0;32m   (...)\u001b[0m\n\u001b[1;32m    386\u001b[0m     duplicates\u001b[38;5;241m=\u001b[39mduplicates,\n\u001b[1;32m    387\u001b[0m )\n",
      "\u001b[0;31mTypeError\u001b[0m: ufunc 'isnan' not supported for the input types, and the inputs could not be safely coerced to any supported types according to the casting rule ''safe''"
     ]
    }
   ],
   "source": [
    "# Using the most active station id\n",
    "# Query the last 12 months of temperature observation data for this station and plot the results as a histogram\n",
    "#temps = session.query(measurement.date, measurement.tobs).filter(measurement.date >= p_year).filter(measurement.station == 'USC00519281').all()\n",
    "temps = session.query(measurement.date).filter(measurement.date >= p_year).filter(measurement.station == 'USC00519281').all()\n",
    "print(temps)\n",
    "#temp_year = [{\"date\": row[0], \"tobs\": row[1]} for row in temps]\n",
    "#df2 = pd.DataFrame(temp_year, columns=[\"date\", \"tobs\"])\n",
    "df2 = pd.DataFrame(temps, columns=[\"tobs\"])\n",
    "print(df2) \n",
    "\n",
    "# Define the number of bins you want\n",
    "bins = 12\n",
    "\n",
    "df2['bin_number'] = pd.qcut(df2['tobs'], q=bins, labels=False)\n",
    "#binned_df = pd.DataFrame(temp_year, )\n",
    "binned_df = df2.groupby('bin_number').size().reset_index(name='Count')\n",
    "\n",
    "\n",
    "#joined_df = pd.merge(binned_df, df2, how=\"outer\", on=\"none\")\n",
    "#rint(joined_df)\n",
    "\n",
    "# Use Pandas Plotting with Matplotlib to plot the data\n",
    "x_column = 'tobs'\n",
    "y_column = 'Count'\n",
    "\n",
    "# Use Pandas Plotting with Matplotlib to plot the data\n",
    "plt.bar(binned_df['bin_number'], binned_df['Count'], color='blue')\n",
    "plt.xlabel('Temperature Bins')\n",
    "plt.ylabel('Frequency')\n",
    "plt.xticks(rotation=35)\n",
    "plt.show()\n"
   ]
  },
  {
   "cell_type": "markdown",
   "metadata": {},
   "source": [
    "# Close Session"
   ]
  },
  {
   "cell_type": "code",
   "execution_count": null,
   "metadata": {},
   "outputs": [],
   "source": [
    "# Close Session\n",
    "session.close()"
   ]
  }
 ],
 "metadata": {
  "kernelspec": {
   "display_name": "dev2",
   "language": "python",
   "name": "python3"
  },
  "language_info": {
   "codemirror_mode": {
    "name": "ipython",
    "version": 3
   },
   "file_extension": ".py",
   "mimetype": "text/x-python",
   "name": "python",
   "nbconvert_exporter": "python",
   "pygments_lexer": "ipython3",
   "version": "3.10.13"
  }
 },
 "nbformat": 4,
 "nbformat_minor": 2
}
